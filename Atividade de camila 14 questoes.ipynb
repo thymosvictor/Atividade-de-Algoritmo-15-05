{
 "cells": [
  {
   "cell_type": "markdown",
   "metadata": {},
   "source": [
    "ATIVIDADE 1"
   ]
  },
  {
   "cell_type": "code",
   "execution_count": 13,
   "metadata": {},
   "outputs": [
    {
     "name": "stdout",
     "output_type": "stream",
     "text": [
      "sua letra é uma vogal\n"
     ]
    }
   ],
   "source": [
    "\n",
    "letra = (input('digite uma letra'))\n",
    "if letra == 'a':\n",
    "    print (\"sua letra é uma vogal\")\n",
    "elif letra == 'e':\n",
    "    print (\"sua letra é uma vogal\")\n",
    "elif letra == 'i': \n",
    "    print (\"sua letra é uma vogal\")\n",
    "elif letra == 'i':\n",
    "    print (\"sua letra é uma vogal\")\n",
    "elif letra == 'o':\n",
    "    print (\"sua letra é uma vogal\")\n",
    "elif letra == 'u':\n",
    "    print (\"sua letra é uma vogal\")\n",
    "else:\n",
    "    print (\"sua letra é uma consoante\")"
   ]
  },
  {
   "cell_type": "markdown",
   "metadata": {},
   "source": [
    "ATIVIDADE 2"
   ]
  },
  {
   "cell_type": "code",
   "execution_count": 20,
   "metadata": {},
   "outputs": [
    {
     "name": "stdout",
     "output_type": "stream",
     "text": [
      "compre o primeiro produto pois é o mais em conta.\n"
     ]
    }
   ],
   "source": [
    "produto1_preco = float( input('Digite o preço do produto1 em R$:'))\n",
    "produto2_preco = float( input('Digite o preço do produto2 em R$:'))\n",
    "produto3_preco = float( input('Digite o preço do produto3 em R$:'))\n",
    "\n",
    "if produto1_preco <= produto2_preco and produto3_preco:\n",
    "   print (\"compre o primeiro produto pois é o mais em conta.\")\n",
    "elif produto2_preco <= produto1_preco and produto3_preco:\n",
    "   print (\"compre o segundo produto pois é o mais em conta.\")\n",
    "elif produto3_preco <= produto2_preco and produto1_preco:\n",
    "   print (\"compre o terceiro produto pois é o mais em conta.\")"
   ]
  },
  {
   "cell_type": "markdown",
   "metadata": {},
   "source": [
    "ATIVIDADE 3"
   ]
  },
  {
   "cell_type": "code",
   "execution_count": 21,
   "metadata": {},
   "outputs": [
    {
     "name": "stdout",
     "output_type": "stream",
     "text": [
      "ordem decrescente: 25.0 10.0 8.0\n"
     ]
    }
   ],
   "source": [
    "numero1 = float( input('Digite o numero1'))\n",
    "numero2 = float( input('Digite o numero2'))\n",
    "numero3 = float( input('Digite o numero1'))\n",
    "\n",
    "if numero1 > numero2 > numero3:\n",
    "   print (\"ordem decrescente:\",numero1,numero2,numero3)\n",
    "elif numero1 > numero3 > numero2:\n",
    "   print (\"ordem decrescente:\",numero1,numero3,numero2)\n",
    "elif numero2 > numero1 > numero3:\n",
    "   print (\"ordem decrescente:\",numero2,numero1,numero3)\n",
    "elif numero2 > numero3 > numero1:\n",
    "    print (\"ordem decrescente:\",numero2,numero3,numero1)\n",
    "elif numero3 > numero2 > numero1: \n",
    "     print (\"ordem decrescente:\",numero3,numero2,numero1)\n",
    "elif numero3 > numero1 > numero2: \n",
    "    print (\"ordem decrescente:\",numero3,numero1,numero2)"
   ]
  },
  {
   "cell_type": "markdown",
   "metadata": {},
   "source": [
    "ATIVIDADE 4"
   ]
  },
  {
   "cell_type": "code",
   "execution_count": 22,
   "metadata": {},
   "outputs": [
    {
     "name": "stdout",
     "output_type": "stream",
     "text": [
      "boa tarde!\n"
     ]
    }
   ],
   "source": [
    "turno = (input('selecione o turno que voce estuda, \"m\"para matutino, \"v\" para vespertino e \"n\" para noturno'))\n",
    "if turno == 'm':\n",
    "    print ('bom dia!')\n",
    "elif turno == 'v':\n",
    "    print (\"boa tarde!\")\n",
    "elif turno == 'n':\n",
    "    print ('boa noite!')\n",
    "else:\n",
    "    print ('valor inválido')"
   ]
  },
  {
   "cell_type": "markdown",
   "metadata": {},
   "source": [
    "ATIVIDADE 5"
   ]
  },
  {
   "cell_type": "code",
   "execution_count": 23,
   "metadata": {},
   "outputs": [
    {
     "name": "stdout",
     "output_type": "stream",
     "text": [
      "corresponde a: 6- sexta\n"
     ]
    }
   ],
   "source": [
    "numeros_dias = (input(\"digite um numero para correspender ao dia da semana!\"))\n",
    "if numeros_dias == '1':\n",
    "    print ('corresponde a: 1- domingo')\n",
    "elif numeros_dias == '2':\n",
    "    print ('corresponde a: 2- segunda')\n",
    "elif numeros_dias == '3':\n",
    "    print ('corresponde a: 3- terça')\n",
    "elif numeros_dias == '4': \n",
    "    print ('corresponde a: 4- quarta')\n",
    "elif numeros_dias == '5':  \n",
    "       print ('corresponde a: 5- quinta')\n",
    "elif numeros_dias == '6':  \n",
    "      print ('corresponde a: 6- sexta')     \n",
    "elif numeros_dias == '7':  \n",
    "     print ('corresponde a: 7- sabado')\n",
    "else:\n",
    "     print (\"valor inválido!\")"
   ]
  },
  {
   "cell_type": "markdown",
   "metadata": {},
   "source": [
    "ATIVIDADE 6"
   ]
  },
  {
   "cell_type": "code",
   "execution_count": 31,
   "metadata": {},
   "outputs": [
    {
     "name": "stdout",
     "output_type": "stream",
     "text": [
      "a primeira nota foi: 6 a segunda nota foi: 9 a média é: 7.5 o conceito da média é: D o status final do aluno é de: APROVADO\n"
     ]
    }
   ],
   "source": [
    "nota1 = 6\n",
    "nota2 = 9\n",
    "media = (nota1 + nota2) / 2\n",
    "status = 'APROVADO' or 'REPROVADO'\n",
    "if media >=9:\n",
    "    conceito = 'A'\n",
    "elif media >=7.5:\n",
    "    conceito = 'B'\n",
    "elif media >=6:\n",
    "    conceito = 'C' \n",
    "if media >=4:\n",
    "    conceito = 'D'     \n",
    "else:\n",
    "    conceito = 'E'\n",
    "\n",
    "    if conceito in ['A','B','C']:\n",
    "        status = 'APROVADO'\n",
    "    elif conceito in ['D','E']:\n",
    "        status = 'REPROVADO'\n",
    "\n",
    "print ('a primeira nota foi:', nota1,'a segunda nota foi:', nota2, 'a média é:', media, 'o conceito da média é:',conceito,\"o status final do aluno é de:\" ,status)"
   ]
  },
  {
   "cell_type": "code",
   "execution_count": 36,
   "metadata": {},
   "outputs": [
    {
     "name": "stdout",
     "output_type": "stream",
     "text": [
      "o ano 2024 é bissexto\n"
     ]
    }
   ],
   "source": [
    "ano = int(input('digite um ano:'))\n",
    "anobissexto= (ano % 4 == 0 and ano % 100 !=0 ) or (ano %400 == 0)\n",
    "if anobissexto == True:\n",
    "    print ('o ano',ano,'é bissexto')\n",
    "else:\n",
    "    print ('o ano',ano, 'não é bissexto')"
   ]
  }
 ],
 "metadata": {
  "kernelspec": {
   "display_name": "Python 3",
   "language": "python",
   "name": "python3"
  },
  "language_info": {
   "codemirror_mode": {
    "name": "ipython",
    "version": 3
   },
   "file_extension": ".py",
   "mimetype": "text/x-python",
   "name": "python",
   "nbconvert_exporter": "python",
   "pygments_lexer": "ipython3",
   "version": "3.11.4"
  }
 },
 "nbformat": 4,
 "nbformat_minor": 2
}
